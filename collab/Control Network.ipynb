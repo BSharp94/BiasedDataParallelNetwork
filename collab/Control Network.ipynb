{
 "cells": [
  {
   "cell_type": "code",
   "execution_count": null,
   "metadata": {},
   "outputs": [],
   "source": "%config IPCompleter.greedy=True\nimport numpy as np\nimport torch \nimport torch.backends.cudnn as cudnn\nimport torch.optim as optim\nimport torchvision\nimport torchvision.datasets as datasets\nimport torchvision.models as models\nimport torchvision.transforms as transforms"
  },
  {
   "cell_type": "code",
   "execution_count": null,
   "metadata": {},
   "outputs": [],
   "source": "# Load predefined alexnet model\nmodel = models.alexnet(num_classes = 10)\nmodel.cuda()\n\n# Create image transformation\ntransform_train = transforms.Compose([\n    transforms.RandomResizedCrop(244),\n    transforms.RandomHorizontalFlip(),\n    transforms.ToTensor(),\n    transforms.Normalize((0.4914, 0.4822, 0.4465), (0.2023, 0.1994, 0.2010)),\n])\n\ntransform_test = transforms.Compose([\n    transforms.RandomResizedCrop(224),\n    transforms.ToTensor(),\n    transforms.Normalize((0.4914, 0.4822, 0.4465), (0.2023, 0.1994, 0.2010)),\n])"
  },
  {
   "cell_type": "code",
   "execution_count": null,
   "metadata": {},
   "outputs": [],
   "source": "imagenet_data_train = datasets.CIFAR10('./data', download = True, train = True, transform = transform_train)\nimagenet_data_test = datasets.CIFAR10('./data', download = True, train = False, transform = transform_test)"
  },
  {
   "cell_type": "code",
   "execution_count": null,
   "metadata": {},
   "outputs": [],
   "source": "# Create Training Hyperparameters\nNUM_EPOCHS = 50\nBATCH_SIZE = 128\nNUM_CLASSES = 10\nLEARNING_RATE = 0.01\nMOMENTUM = 0.9\nTRAINING_RECORD_INTERVAL = 25\n\ntrain_loader = torch.utils.data.DataLoader(imagenet_data_train, batch_size=BATCH_SIZE,\n                                          shuffle=True, num_workers=0)\n\ntest_loader = torch.utils.data.DataLoader(imagenet_data_test, batch_size=BATCH_SIZE,\n                                          shuffle=False, num_workers=0)\n\ncriterion = torch.nn.CrossEntropyLoss().cuda()\noptimizer = optim.Adam(model.parameters(), lr=0.0005, weight_decay=0.0005)\n\ntraining_accuracy = []\ntesting_accuracy = []\n\ncudnn.benchmark = True\n\nfor epoch_idx in range(NUM_EPOCHS):\n    \n    for idx, (inputs, labels) in enumerate(train_loader):\n        \n        inputs, labels = inputs.cuda(), labels.cuda()\n        optimizer.zero_grad()\n\n        outputs = model(inputs)\n        \n        _, predicted = torch.max(outputs.data, 1)\n        correct = (predicted == labels).sum().item()\n        loss = criterion(outputs, labels)\n        \n        \n        if idx % TRAINING_RECORD_INTERVAL == 0:\n          training_accuracy.append(100 * correct / BATCH_SIZE)\n\n          print('Epoch: %d\\tIterval: %d\\tAccuracy : %d%%' % (\n              epoch_idx,\n              idx,\n              100 * correct / BATCH_SIZE))\n        \n        loss.backward()\n\n        optimizer.step()\n\n    testing_correct = 0\n    for idx, (inputs, labels) in enumerate(test_loader):\n\n        inputs, labels = inputs.cuda(), labels.cuda()\n        outputs = model(inputs)\n\n        _, predicted = torch.max(outputs.data, 1)\n        testing_correct += (predicted == labels).sum().item()\n        \n    print('Epoch: %d\\tAccuracy: %d %%' % (epoch_idx, 100 * testing_correct / len(imagenet_data_test)))\n    testing_accuracy.append(100 * testing_correct / len(imagenet_data_test))\n        \nnp.save('/content/drive/My Drive/Colab Notebooks/Results/Control/training_accuracy.npy', training_accuracy)\nnp.save('/content/drive/My Drive/Colab Notebooks/Results/Control/testing_accuracy.npy', testing_accuracy)\ntorch.save(model.state_dict(), '/content/drive/My Drive/Colab Notebooks/Results/Control/model_control.pt')"
  }
 ],
 "metadata": {
  "kernelspec": {
   "display_name": "BiasedDataParallelNetwork",
   "language": "python",
   "name": "biaseddataparallelnetwork"
  },
  "language_info": {
   "codemirror_mode": {
    "name": "ipython",
    "version": 3
   },
   "file_extension": ".py",
   "mimetype": "text/x-python",
   "name": "python",
   "nbconvert_exporter": "python",
   "pygments_lexer": "ipython3",
   "version": "3.6.7rc2"
  }
 },
 "nbformat": 4,
 "nbformat_minor": 4
}
